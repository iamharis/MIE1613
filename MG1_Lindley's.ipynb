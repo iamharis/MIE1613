{
 "cells": [
  {
   "cell_type": "markdown",
   "metadata": {},
   "source": [
    "## Simulating the waiting times in an $M/G/1$ queue using Lindley's recursion: $$Y_{i}=\\max\\{0,Y_{i-1}+X_{i-1}-A_{i}\\},i=1,2,\\dots$$"
   ]
  },
  {
   "cell_type": "code",
   "execution_count": 5,
   "metadata": {
    "collapsed": true
   },
   "outputs": [],
   "source": [
    "import numpy as np\n",
    "import scipy.stats as stats\n",
    "import matplotlib.pyplot as plt\n",
    "\n",
    "def t_mean_confidence_interval(data,alpha):\n",
    "    a = 1.0*np.array(data)\n",
    "    n = len(a)\n",
    "    m, se = np.mean(a), stats.sem(a)\n",
    "    h = stats.t.ppf(1-alpha/2, n-1)*se\n",
    "    return m, m-h[0], m+h[0]"
   ]
  },
  {
   "cell_type": "code",
   "execution_count": 6,
   "metadata": {},
   "outputs": [
    {
     "name": "stdout",
     "output_type": "stream",
     "text": [
      "Rep Average Wait\n",
      "1 [ 2.12473211]\n",
      "2 [ 2.14931867]\n",
      "3 [ 2.2030591]\n",
      "4 [ 2.21395469]\n",
      "5 [ 2.04307169]\n",
      "6 [ 2.14750246]\n",
      "7 [ 2.15739374]\n",
      "8 [ 2.12068571]\n",
      "9 [ 2.05444714]\n",
      "10 [ 2.02822333]\n",
      "CI for the steady-state ave. wait: (2.1242388611847032, 2.078234346673975, 2.1702433756954314)\n"
     ]
    }
   ],
   "source": [
    "AllWait = []\n",
    "print (\"Rep\", \"Average Wait\")\n",
    "\n",
    "m = 55000\n",
    "d = 5000\n",
    "MeanTBA = 1.0 # average interarrival time\n",
    "MeanST = 0.8 # average service time\n",
    "\n",
    "np.random.seed(1)\n",
    "\n",
    "for Rep in range(0,10,1):\n",
    "    Y = 0\n",
    "    SumY = 0\n",
    "    for i in range(0,d,1):\n",
    "        A = np.random.exponential(MeanTBA, 1)\n",
    "        X = np.sum(np.random.exponential(MeanST/3,3))\n",
    "        Y = max(0, Y + X - A)\n",
    "        \n",
    "    for i in range(d,m,1):\n",
    "        A = np.random.exponential(MeanTBA, 1)\n",
    "        X = np.sum(np.random.exponential(MeanST/3,3))\n",
    "        Y = max(0, Y + X - A)\n",
    "        SumY = SumY + Y\n",
    "    AllWait.append(SumY/(float(m-d)))\n",
    "    print (Rep+1, SumY/(float(m-d)))\n",
    "\n",
    "\n",
    "print (\"CI for the steady-state ave. wait:\", t_mean_confidence_interval(AllWait,0.05))"
   ]
  },
  {
   "cell_type": "markdown",
   "metadata": {},
   "source": [
    "### Next, we estimate the average waiting time of the ith customer (for $i$ = 0 to 500) and plot it to observe the convergence to the steady-state distribution. "
   ]
  },
  {
   "cell_type": "code",
   "execution_count": 8,
   "metadata": {
    "collapsed": true
   },
   "outputs": [],
   "source": [
    "m = 500 # number of customers\n",
    "n = 800 # number of replications\n",
    "MeanTBA = 1.0 # average interarrival time\n",
    "MeanST = 0.8 # average service time\n",
    "\n",
    "# define a list of lists to keep the wait times across replciations\n",
    "wait_times_reps = []\n",
    "\n",
    "np.random.seed(1)\n",
    "\n",
    "for reps in range(0,n):\n",
    "    # for each rep, simulate the waiting time of the first N customres\n",
    "    wait_times = []\n",
    "    wait_times.append(0) # first customer's wait is 0\n",
    "    Y = 0\n",
    "\n",
    "    for i in range (1,m):\n",
    "        A = np.random.exponential(MeanTBA, 1)\n",
    "        X = np.sum(np.random.exponential(MeanST/3,3))\n",
    "        Y = max(0,Y + X - A)\n",
    "        wait_times.append(Y)\n",
    "    \n",
    "    # append the list of wait_times to the wait_times_reps     \n",
    "    wait_times_reps.append(wait_times)"
   ]
  },
  {
   "cell_type": "code",
   "execution_count": 10,
   "metadata": {},
   "outputs": [
    {
     "data": {
      "image/png": "[encoded data removed]",
      "text/plain": [
       "<matplotlib.figure.Figure at 0x1132a0208>"
      ]
     },
     "metadata": {},
     "output_type": "display_data"
    }
   ],
   "source": [
    "# compute the sample average for the ith customer across replications\n",
    "# and save it in Ave_waits list\n",
    "wait_times_reps_array = np.array(wait_times_reps)\n",
    "# axis = 0 computes column averages\n",
    "Ave_waits_y = np.mean(wait_times_reps_array,axis = 0)\n",
    "\n",
    "plt.plot(Ave_waits_y,'o')\n",
    "axes = plt.gca()\n",
    "axes.set_ylim([0,7])\n",
    "plt.xlabel('Customer')\n",
    "plt.ylabel('Ave. wait')\n",
    "plt.rcParams['figure.figsize'] = (10, 6)\n",
    "plt.rcParams.update({'font.size': 14})\n",
    "plt.show()"
   ]
  }
 ],
 "metadata": {
  "kernelspec": {
   "display_name": "Python 3",
   "language": "python",
   "name": "python3"
  },
  "language_info": {
   "codemirror_mode": {
    "name": "ipython",
    "version": 3
   },
   "file_extension": ".py",
   "mimetype": "text/x-python",
   "name": "python",
   "nbconvert_exporter": "python",
   "pygments_lexer": "ipython3",
   "version": "3.6.7"
  }
 },
 "nbformat": 4,
 "nbformat_minor": 2
}
