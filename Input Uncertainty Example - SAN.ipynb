{
 "cells": [
  {
   "cell_type": "code",
   "execution_count": 1,
   "metadata": {},
   "outputs": [],
   "source": [
    "import numpy as np\n",
    "import matplotlib.pylab as plt\n",
    "import pandas as pd\n",
    "\n",
    "df = pd.read_excel('SANData.xls')\n",
    "df_np = df.values"
   ]
  },
  {
   "cell_type": "code",
   "execution_count": 2,
   "metadata": {},
   "outputs": [
    {
     "name": "stdout",
     "output_type": "stream",
     "text": [
      "[0.99583034 0.86443849 1.50957894 0.8678248  0.67650973]\n"
     ]
    }
   ],
   "source": [
    "# column averages are the estimated activity durations\n",
    "data_est = np.mean(df_np,axis=0)\n",
    "print(data_est)"
   ]
  },
  {
   "cell_type": "code",
   "execution_count": 10,
   "metadata": {},
   "outputs": [],
   "source": [
    "# Function that returns the simulation output for the time to complete the project\n",
    "# for 30 replications and given a vector of estimated mean duration times X_hat\n",
    "def SANSIM(X_hat):\n",
    "    Y_list = []\n",
    "    for rep in range(0,30,1):\n",
    "        X = []\n",
    "        for i in range(0,5,1):\n",
    "            X.append(np.random.exponential(X_hat[i]))\n",
    "        Y = max(X[0] + X[3], X[0] + X[2] + X[4], X[1] + X[4])\n",
    "        Y_list.append(Y)\n",
    "    return(Y_list)"
   ]
  },
  {
   "cell_type": "code",
   "execution_count": 11,
   "metadata": {},
   "outputs": [
    {
     "name": "stdout",
     "output_type": "stream",
     "text": [
      "3.280172930820712\n",
      "0.3077587794365779\n"
     ]
    }
   ],
   "source": [
    "# Estimted project duration and standard error based on the \n",
    "# estimated durations obtained from the data\n",
    "print(np.mean(SANSIM(data_est)))\n",
    "print((np.std(SANSIM(data_est))**2)/30)"
   ]
  },
  {
   "cell_type": "code",
   "execution_count": 12,
   "metadata": {},
   "outputs": [],
   "source": [
    "b = 1000 # bootstrap samples\n",
    "m = 50 # sample size\n",
    "Yij_list = []\n",
    "\n",
    "for i in range(0,b):\n",
    "    # generate a new bootstrap sample and estimate the duration\n",
    "    estimate = []\n",
    "    for act in range(0,5):\n",
    "        sample = np.random.choice(df_np[:,act], m)\n",
    "        estimate.append(np.mean(sample))\n",
    "    # run the simulation with the new estimates\n",
    "    Yij_list.append(SANSIM(estimate))"
   ]
  },
  {
   "cell_type": "code",
   "execution_count": 14,
   "metadata": {},
   "outputs": [
    {
     "data": {
      "image/png": "[encoded data removed]",
      "text/plain": [
       "<Figure size 720x360 with 1 Axes>"
      ]
     },
     "metadata": {
      "needs_background": "light"
     },
     "output_type": "display_data"
    }
   ],
   "source": [
    "# plot a histogram of the estimates for different inputs\n",
    "plt.figure(figsize=(10, 5))\n",
    "plt.hist(np.mean(Yij_list,axis=1), bins = 30)\n",
    "plt.xlabel('sample')\n",
    "plt.ylabel('mean completion estimate')\n",
    "plt.show()"
   ]
  },
  {
   "cell_type": "code",
   "execution_count": 67,
   "metadata": {},
   "outputs": [],
   "source": [
    "# write the Y_ij output to the data\n",
    "output_df = pd.DataFrame(Yij_list)\n",
    "output_df.to_excel('SAN_output.xls', index=False)"
   ]
  }
 ],
 "metadata": {
  "kernelspec": {
   "display_name": "Python 2",
   "language": "python",
   "name": "python2"
  },
  "language_info": {
   "codemirror_mode": {
    "name": "ipython",
    "version": 2
   },
   "file_extension": ".py",
   "mimetype": "text/x-python",
   "name": "python",
   "nbconvert_exporter": "python",
   "pygments_lexer": "ipython2",
   "version": "2.7.15"
  }
 },
 "nbformat": 4,
 "nbformat_minor": 2
}
