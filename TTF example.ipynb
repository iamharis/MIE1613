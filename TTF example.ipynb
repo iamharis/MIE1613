{
 "cells": [
  {
   "cell_type": "markdown",
   "metadata": {
    "collapsed": true
   },
   "source": [
    "### Generate one sample path of $S(t)$ and computes the time to failure (TTF)"
   ]
  },
  {
   "cell_type": "code",
   "execution_count": 9,
   "metadata": {},
   "outputs": [
    {
     "name": "stdout",
     "output_type": "stream",
     "text": [
      "TTF was: 5.0\n"
     ]
    },
    {
     "data": {
      "image/png": "[encoded data removed]",
      "text/plain": [
       "<Figure size 432x288 with 1 Axes>"
      ]
     },
     "metadata": {},
     "output_type": "display_data"
    }
   ],
   "source": [
    "import numpy as np\n",
    "import matplotlib.pyplot as plt\n",
    "\n",
    "# start with 2 functioning components at time 0\n",
    "clock = 0\n",
    "S = 2\n",
    "\n",
    "# fix random number seed\n",
    "#np.random.seed(1)\n",
    "\n",
    "# initialize the time of events\n",
    "NextRepair = float('inf')\n",
    "NextFailure = np.ceil(6*np.random.random())\n",
    "# lists to keep the event times and the states\n",
    "EventTimes = [0]\n",
    "States = [2]\n",
    "\n",
    "while S > 0:\n",
    "    # advance the time\n",
    "    clock = min(NextRepair, NextFailure)\n",
    "    \n",
    "    if NextRepair < NextFailure:\n",
    "        # next event is completion of a repair\n",
    "        S = S + 1\n",
    "        NextRepair = float('inf')\n",
    "    else:\n",
    "        # next event is a failure\n",
    "        S = S - 1\n",
    "        if S == 1:\n",
    "            NextRepair = clock + 2.5\n",
    "            NextFailure = clock + np.ceil(6*np.random.random())\n",
    "    \n",
    "    # save the time and state\n",
    "    EventTimes.append(clock)\n",
    "    States.append(S)\n",
    "\n",
    "# plot the sample path\n",
    "print ('TTF was:', clock)\n",
    "plt.plot(EventTimes, States, drawstyle = 'steps-post')\n",
    "plt.show()"
   ]
  },
  {
   "cell_type": "markdown",
   "metadata": {},
   "source": [
    "### Run multiple replications and estimate the expected value of time to failure and average # of fucntioning components till failure."
   ]
  },
  {
   "cell_type": "code",
   "execution_count": 6,
   "metadata": {},
   "outputs": [
    {
     "name": "stdout",
     "output_type": "stream",
     "text": [
      "Estimated expected TTF: 14.63\n",
      "Estimated expected ave. # of func. comp. till failure: 1.5628147211463042\n"
     ]
    }
   ],
   "source": [
    "import numpy as np\n",
    "import matplotlib.pyplot as plt\n",
    "\n",
    "# Set number of replications\n",
    "N = 100\n",
    "# Define lists to keep samples of the outputs across replications\n",
    "TTF_list = []\n",
    "Ave_list = []\n",
    "\n",
    "# fix random number seed\n",
    "np.random.seed(1)\n",
    "\n",
    "for rep in range (0,N):\n",
    "    # start with 2 functioning components at time 0\n",
    "    clock = 0\n",
    "    S = 2\n",
    "    # initialize the time of events\n",
    "    NextRepair = float('inf')\n",
    "    NextFailure = np.ceil(6*np.random.random())\n",
    "    EventTimes = [0]\n",
    "    States = [2]\n",
    "    # Define variables to keep the area under the sample path\n",
    "    # and the time and state of the last event\n",
    "    Area = 0.0\n",
    "    Tlast = 0\n",
    "    Slast = 2\n",
    "\n",
    "    while S > 0:\n",
    "        # advance the time\n",
    "        clock = min(NextRepair, NextFailure)\n",
    "\n",
    "        if NextRepair < NextFailure:\n",
    "            # next event is completion of a repair\n",
    "            S = S + 1\n",
    "            NextRepair = float('inf')\n",
    "        else:\n",
    "            # next event is a failure\n",
    "            S = S - 1\n",
    "            if S == 1:\n",
    "                NextRepair = clock + 2.5\n",
    "                NextFailure = clock + np.ceil(6*np.random.random())\n",
    "        # Update the area under the sample path and the\n",
    "        # time and state of the last event\n",
    "        Area = Area + (clock - Tlast)* Slast\n",
    "        Tlast = clock\n",
    "        Slast = S\n",
    "\n",
    "    # save the TTF and average # of func. components\n",
    "    TTF_list.append(clock)\n",
    "    Ave_list.append(Area/clock)\n",
    "\n",
    "print('Estimated expected TTF:', np.mean(TTF_list))\n",
    "print('Estimated expected ave. # of func. comp. till failure:', np.mean(Ave_list))"
   ]
  },
  {
   "cell_type": "markdown",
   "metadata": {},
   "source": [
    "### Functional version"
   ]
  },
  {
   "cell_type": "code",
   "execution_count": 11,
   "metadata": {},
   "outputs": [
    {
     "name": "stdout",
     "output_type": "stream",
     "text": [
      "Estimated expected TTF: 14.63\n",
      "Estimated expected ave. # of func. comp. till failure: 1.5628147211463042\n"
     ]
    }
   ],
   "source": [
    "import numpy as np\n",
    "\n",
    "def Failure ():\n",
    "    global S\n",
    "    global Slast\n",
    "    global Tlast\n",
    "    global Area\n",
    "    global NextFailure\n",
    "    global NextRepair\n",
    "\n",
    "    S = S - 1\n",
    "    if S == 1:\n",
    "        NextRepair = clock + 2.5\n",
    "        NextFailure = clock + np.ceil(6*np.random.random())\n",
    "    # Update the area under the sample path and the\n",
    "    # time and state at the last event\n",
    "    Area = Area + (clock - Tlast)* Slast\n",
    "    Tlast = clock\n",
    "    Slast = S\n",
    "\n",
    "def Repair():\n",
    "    global S\n",
    "    global Slast\n",
    "    global Tlast\n",
    "    global Area\n",
    "    global NextFailure\n",
    "    global NextRepair\n",
    "\n",
    "    S = S + 1\n",
    "    NextRepair = float('inf')\n",
    "    Area = Area + Slast * (clock - Tlast)\n",
    "    Slast = S\n",
    "    Tlast = clock\n",
    "\n",
    "def Timer():\n",
    "    global clock\n",
    "    global NextRepair\n",
    "    global NextFailure\n",
    "\n",
    "    if NextFailure < NextRepair:\n",
    "        result = \"Failure\"\n",
    "        clock = NextFailure\n",
    "\n",
    "    else:\n",
    "        result = \"Repair\"\n",
    "        clock = NextRepair\n",
    "    return result \n",
    "\n",
    "\n",
    "# Set number of replications\n",
    "N = 100\n",
    "# Define lists to keep samples of the outputs across replications\n",
    "TTF_list = []\n",
    "Ave_list = []\n",
    "# fix random number seed\n",
    "np.random.seed(1)\n",
    "\n",
    "# Replication loop\n",
    "for reps in range(0,N):\n",
    "    # start with 2 functioning components at time 0\n",
    "    clock = 0\n",
    "    S = 2\n",
    "    # initialize the time of events\n",
    "    NextRepair = float('inf')\n",
    "    NextFailure = np.ceil(6*np.random.random())\n",
    "    # Define variables to keep the area under the sample path\n",
    "    # and the time and state of the last event\n",
    "    Area = 0.0\n",
    "    Tlast = 0\n",
    "    Slast = 2\n",
    "\n",
    "    while S > 0: # While system is functional\n",
    "        NextEvent = Timer()\n",
    "\n",
    "        if NextEvent == \"Repair\":\n",
    "            Repair()\n",
    "        else:\n",
    "            Failure()\n",
    "\n",
    "    # add samples to the lists\n",
    "    TTF_list.append(clock)\n",
    "    Ave_list.append(Area/clock)\n",
    "\n",
    "# print sample averages\n",
    "print('Estimated expected TTF:', np.mean(TTF_list))\n",
    "print('Estimated expected ave. # of func. comp. till failure:', np.mean(Ave_list))"
   ]
  }
 ],
 "metadata": {
  "kernelspec": {
   "display_name": "Python 3",
   "language": "python",
   "name": "python3"
  },
  "language_info": {
   "codemirror_mode": {
    "name": "ipython",
    "version": 3
   },
   "file_extension": ".py",
   "mimetype": "text/x-python",
   "name": "python",
   "nbconvert_exporter": "python",
   "pygments_lexer": "ipython3",
   "version": "3.6.1"
  }
 },
 "nbformat": 4,
 "nbformat_minor": 1
}
