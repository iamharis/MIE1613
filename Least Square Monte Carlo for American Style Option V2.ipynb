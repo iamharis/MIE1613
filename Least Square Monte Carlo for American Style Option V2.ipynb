{
 "cells": [
  {
   "cell_type": "markdown",
   "metadata": {},
   "source": [
    "https://github.com/jpcolino/IPython_notebooks/blob/master/Least%20Square%20Monte%20Carlo%20Implementation%20in%20a%20Python%20Class.ipynb"
   ]
  },
  {
   "cell_type": "code",
   "execution_count": 1,
   "metadata": {},
   "outputs": [],
   "source": [
    "import matplotlib.pyplot as plt\n",
    "%matplotlib inline\n",
    "import numpy as np"
   ]
  },
  {
   "cell_type": "code",
   "execution_count": 2,
   "metadata": {},
   "outputs": [],
   "source": [
    "def LSM(InitialValue, StrikePrice, InterestRate, Sigma, Maturity, Steps, Replications):\n",
    "    option_type = 'put'\n",
    "    Interval = Maturity/Steps\n",
    "    discount= np.exp(-InterestRate*Interval)\n",
    "    SIgma2 = Sigma*Sigma/2\n",
    "\n",
    "    np.random.seed(1)\n",
    "    PriceMatrix = np.zeros((Steps + 1, Replications), dtype=np.float64)\n",
    "    PriceMatrix[0,:] = InitialValue\n",
    "    for i in range(1, Steps + 1):\n",
    "        Z = np.random.standard_normal( Replications//2)\n",
    "        Z = np.concatenate((Z, -Z))\n",
    "        PriceMatrix[i, :] = (PriceMatrix[i - 1, :]* np.exp((InterestRate - Sigma ** 2 / 2.) * Interval+ \n",
    "                                                           Sigma * Z * np.sqrt(Interval)))\n",
    "    if option_type == 'call':\n",
    "        Payoff = np.maximum(PriceMatrix - StrikePrice, np.zeros((Steps + 1, Replications),dtype=np.float64))\n",
    "    else:\n",
    "        Payoff = np.maximum(StrikePrice - PriceMatrix,np.zeros((Steps + 1, Replications),dtype=np.float64))\n",
    "\n",
    "    value_matrix = np.zeros_like(Payoff)\n",
    "    value_matrix[-1, :] = Payoff[-1, :]\n",
    "    for t in range(Steps - 1, 0 , -1):\n",
    "        regression = np.polyfit(PriceMatrix[t, :], value_matrix[t + 1, :] * discount, 2)\n",
    "        continuation_value = np.polyval(regression, PriceMatrix[t, :])\n",
    "        value_matrix[t, :] = np.where(Payoff[t, :] > continuation_value,Payoff[t, :],value_matrix[t + 1, :] * discount)\n",
    "\n",
    "    value_vector = value_matrix[1,:]*discount\n",
    "\n",
    "   # return np.sum(value_vector) / float(Replications), \n",
    "    return value_vector"
   ]
  },
  {
   "cell_type": "code",
   "execution_count": 3,
   "metadata": {},
   "outputs": [],
   "source": [
    "def CI_95(data):\n",
    "    a = np.array(data)\n",
    "    n = len(a)\n",
    "    m = np.mean(a)\n",
    "    var = ((np.std(a))**2)*(n/(n-1))\n",
    "    hw = 1.96*np.sqrt(var/n)\n",
    "    print('Price of the Option is:',m)\n",
    "    print('\\nThe 95% CI is:',[m-hw,m+hw],'\\n')\n",
    "    return #m, [m-hw,m+hw]"
   ]
  },
  {
   "cell_type": "code",
   "execution_count": 4,
   "metadata": {},
   "outputs": [
    {
     "name": "stdout",
     "output_type": "stream",
     "text": [
      "Price of the Option is: 4.998438418391729\n",
      "\n",
      "The 95% CI is: [4.931538075911112, 5.065338760872347] \n",
      "\n"
     ]
    }
   ],
   "source": [
    "CI_95(LSM(20, 23, 0.055, 0.50, 1, 252,15000))"
   ]
  },
  {
   "cell_type": "code",
   "execution_count": 5,
   "metadata": {},
   "outputs": [
    {
     "name": "stdout",
     "output_type": "stream",
     "text": [
      "Price of the Option is: 3.0170374526272545\n",
      "\n",
      "The 95% CI is: [2.9778436712848944, 3.0562312339696147] \n",
      "\n"
     ]
    }
   ],
   "source": [
    "CI_95(LSM(15, 17, 0.0255, 0.350, 1, 252,15000))"
   ]
  },
  {
   "cell_type": "code",
   "execution_count": 6,
   "metadata": {},
   "outputs": [
    {
     "name": "stdout",
     "output_type": "stream",
     "text": [
      "Price of the Option is: 16.755372980981825\n",
      "\n",
      "The 95% CI is: [16.526693158557773, 16.984052803405877] \n",
      "\n"
     ]
    }
   ],
   "source": [
    "CI_95(LSM(90, 100, 0.0255, 0.350, 1, 252,15000))"
   ]
  },
  {
   "cell_type": "code",
   "execution_count": 7,
   "metadata": {},
   "outputs": [
    {
     "name": "stdout",
     "output_type": "stream",
     "text": [
      "Price of the Option is: 27.92528064143853\n",
      "\n",
      "The 95% CI is: [27.566047163924537, 28.284514118952522] \n",
      "\n"
     ]
    }
   ],
   "source": [
    "CI_95(LSM(85, 95, 0.0325, 0.75, 1, 252,15000))"
   ]
  },
  {
   "cell_type": "markdown",
   "metadata": {},
   "source": [
    "https://github.com/alanklam/Course-Work/blob/master/AmericanOptionPricing/AmericanOptionLSM.py"
   ]
  }
 ],
 "metadata": {
  "kernelspec": {
   "display_name": "Python 3",
   "language": "python",
   "name": "python3"
  },
  "language_info": {
   "codemirror_mode": {
    "name": "ipython",
    "version": 3
   },
   "file_extension": ".py",
   "mimetype": "text/x-python",
   "name": "python",
   "nbconvert_exporter": "python",
   "pygments_lexer": "ipython3",
   "version": "3.6.7"
  }
 },
 "nbformat": 4,
 "nbformat_minor": 2
}
