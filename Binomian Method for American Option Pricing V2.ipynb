{
 "cells": [
  {
   "cell_type": "markdown",
   "metadata": {},
   "source": [
    "### Binomial Method for Option Pricing "
   ]
  },
  {
   "cell_type": "code",
   "execution_count": 1,
   "metadata": {},
   "outputs": [],
   "source": [
    "import numpy as np "
   ]
  },
  {
   "cell_type": "code",
   "execution_count": 2,
   "metadata": {},
   "outputs": [],
   "source": [
    "#Default Values \n",
    "Maturity = 1.0                #T\n",
    "InterestRate = 0.0255         #r\n",
    "Sigma = 0.350                 #Volatility Parameter\n",
    "InitialValue = 15.0           #S0\n",
    "StrikePrice = 17              #K\n",
    "Steps = 252                   #Based on No of Trading days in a Year "
   ]
  },
  {
   "cell_type": "code",
   "execution_count": 3,
   "metadata": {},
   "outputs": [],
   "source": [
    "def Binom_Price(InitialValue, StrikePrice,InterestRate, Sigma, T, Steps):\n",
    "    Maturity = T\n",
    "    Interval = Maturity / Steps\n",
    "    discount = np.exp(InterestRate*Interval)\n",
    "    Sigma2 = Sigma * Sigma / 2\n",
    "\n",
    "    option = 'Put'\n",
    "    american = 'Ture'\n",
    "\n",
    "    u = np.exp(Sigma*np.sqrt(Interval))\n",
    "    d = 1/u\n",
    "    rdelt = np.exp(InterestRate*Interval)\n",
    "    num = rdelt - d\n",
    "    den = u-d\n",
    "    p = num/den\n",
    "\n",
    "    Vec1 = np.asarray([0.0 for i in range(Steps + 1)])\n",
    "    Vec2 = np.asarray([(InitialValue * u**j * d**(Steps- j)) for j in range(Steps + 1)])\n",
    "    Vec3 = np.asarray([float(StrikePrice) for i in range(Steps + 1)])\n",
    "\n",
    "    if option == 'Call':\n",
    "        Vec1[:] = np.maximum(Vec2-Vec3,0.0)\n",
    "    else:\n",
    "        Vec1[:]= np.maximum(Vec3-Vec2,0.0)\n",
    "\n",
    "    for i in range(Steps-1, -1, -1):\n",
    "        Vec1[:-1] = np.exp(-InterestRate*Interval)*(p*Vec1[1:]+(1-p)*Vec1[:-1])\n",
    "        Vec2[:] = Vec2[:]*u\n",
    "        if american =='true':\n",
    "            if option == 'Call':\n",
    "                Vec1[:]=np.maximum(Vec1[:],Vec2[:]-Vec3[:])\n",
    "            else:\n",
    "                Vec1[:]=np.maximum(Vec1[:],Vec3[:]-Vec3[:])\n",
    "    return Vec1[0]\n"
   ]
  },
  {
   "cell_type": "code",
   "execution_count": 4,
   "metadata": {},
   "outputs": [
    {
     "data": {
      "text/plain": [
       "6.385018246168286"
      ]
     },
     "execution_count": 4,
     "metadata": {},
     "output_type": "execute_result"
    }
   ],
   "source": [
    "Binom_Price(20, 23, 0.055, 0.50, 10, 252)"
   ]
  },
  {
   "cell_type": "code",
   "execution_count": 5,
   "metadata": {},
   "outputs": [
    {
     "data": {
      "text/plain": [
       "4.914567016508619"
      ]
     },
     "execution_count": 5,
     "metadata": {},
     "output_type": "execute_result"
    }
   ],
   "source": [
    "Binom_Price(15, 17, 0.0255, 0.350, 20, 252)"
   ]
  },
  {
   "cell_type": "code",
   "execution_count": 6,
   "metadata": {},
   "outputs": [
    {
     "data": {
      "text/plain": [
       "17.808144058884917"
      ]
     },
     "execution_count": 6,
     "metadata": {},
     "output_type": "execute_result"
    }
   ],
   "source": [
    "Binom_Price(90, 100, 0.0255, 0.350, 50, 252)"
   ]
  },
  {
   "cell_type": "code",
   "execution_count": 7,
   "metadata": {},
   "outputs": [
    {
     "data": {
      "text/plain": [
       "15.704889095732474"
      ]
     },
     "execution_count": 7,
     "metadata": {},
     "output_type": "execute_result"
    }
   ],
   "source": [
    "Binom_Price(85, 95, 0.0325, 0.75, 55, 252)"
   ]
  }
 ],
 "metadata": {
  "kernelspec": {
   "display_name": "Python 3",
   "language": "python",
   "name": "python3"
  },
  "language_info": {
   "codemirror_mode": {
    "name": "ipython",
    "version": 3
   },
   "file_extension": ".py",
   "mimetype": "text/x-python",
   "name": "python",
   "nbconvert_exporter": "python",
   "pygments_lexer": "ipython3",
   "version": "3.6.7"
  }
 },
 "nbformat": 4,
 "nbformat_minor": 2
}
